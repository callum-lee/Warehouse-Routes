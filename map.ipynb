{
 "cells": [
  {
   "cell_type": "code",
   "execution_count": 1,
   "metadata": {},
   "outputs": [],
   "source": [
    "import numpy as np\n",
    "import pandas as pd \n",
    "import folium\n",
    "\n",
    "# Get locations data\n",
    "locations = pd.read_csv(\"WarehouseLocations.csv\")\n",
    "\n",
    "# Obtain coordinates of each location\n",
    "coords = locations[['Long', 'Lat']] # Mapping packages work with Long, Lat arrays  \n",
    "coords = coords.to_numpy().tolist() # Make the arrays into a list of lists\n",
    "\n",
    "# Folium requires Lat then Long arrays, so reverse the order\n",
    "m = folium.Map(location = list(reversed(coords[2])), zoom_start = 10)\n",
    "\n",
    "# folium.Marker(list(reversed(coords[0])), popup = locations.Store[0], icon = folium.Icon(color = 'black')).add_to(m)\n",
    "\n",
    "# Set location markers depending on its type (either The Warehouse/Noel Leeming/Distribution Centre)\n",
    "for i in range(0, len(coords)):\n",
    "    # The Warehouse stores will be shown in red \n",
    "    if locations.Type[i] == \"The Warehouse\":\n",
    "        iconCol = \"red\"\n",
    "    # Noel Leeming stores will be shown in orange\n",
    "    elif locations.Type[i] == \"Noel Leeming\":\n",
    "        iconCol = \"orange\"\n",
    "    # Distribution centres will be shown in black\n",
    "    elif locations.Type[i] == \"Distribution\":\n",
    "        iconCol = \"black\"\n",
    "    # Add markers to the map\n",
    "    folium.Marker(list(reversed(coords[i])), popup = locations.Store[i], icon = folium.Icon(color = iconCol)).add_to(m)\n",
    "# m"
   ]
  },
  {
   "cell_type": "code",
   "execution_count": 2,
   "metadata": {
    "scrolled": false
   },
   "outputs": [
    {
     "data": {
      "text/plain": [
       "<Figure size 640x480 with 4 Axes>"
      ]
     },
     "metadata": {},
     "output_type": "display_data"
    },
    {
     "data": {
      "text/plain": [
       "<Figure size 640x480 with 4 Axes>"
      ]
     },
     "metadata": {},
     "output_type": "display_data"
    }
   ],
   "source": [
    "import openrouteservice as ors\n",
    "from main import*\n",
    "from random_color import rand_color\n",
    "\n",
    "# Boot up client to OpenRouteService\n",
    "ORSkey = '5b3ce3597851110001cf624862488e5d98474379ab630ebc96a0ef29'\n",
    "# The client ORSkey\n",
    "client = ors.Client(key=ORSkey)\n",
    "\n",
    "# Get relevant demand, location and duration data\n",
    "demandData = load_DemandData()\n",
    "locations = load_WarehouseLocations()\n",
    "durations = load_WarehouseRoutes(False)\n",
    "\n",
    "# number of iterations\n",
    "n = 1000\n",
    "\n",
    "# Initialise nodes\n",
    "nodes = initialise_nodes(demandData,locations)\n",
    "# Create routes\n",
    "north_routes, north_obj = find_routes(nodes,durations,n,False)\n",
    "\n",
    "# Transform set of routes into list\n",
    "north_route_list = list(north_routes)\n",
    "\n",
    "# Initialise coordinates list\n",
    "north_coord = []\n",
    "\n",
    "# Set coordinates of routes to visualise routes on the map\n",
    "for i in range(len(north_route_list)):\n",
    "    for j in range(len(north_routes[north_route_list[i]].nodes)):\n",
    "        north_coord.append(north_routes[north_route_list[i]].nodes[j].location)    \n",
    "    route = client.directions(coordinates = north_coord, profile = 'driving-hgv', format = 'geojson', validate = False)\n",
    "    # Also insert random HTML hex color code generated so each route has different colors \n",
    "    folium.PolyLine(locations = [list(reversed(north_coord)) for north_coord in route['features'][0]['geometry']['coordinates']], \\\n",
    "                    color = rand_color(), weight = 3).add_to(m)\n",
    "    north_coord = []\n",
    "m.save(\"north_open_routes.html\")"
   ]
  },
  {
   "cell_type": "code",
   "execution_count": 4,
   "metadata": {},
   "outputs": [],
   "source": [
    "# Get locations data\n",
    "locations = pd.read_csv(\"WarehouseLocations.csv\")\n",
    "\n",
    "# Obtain coordinates of each location\n",
    "coords = locations[['Long', 'Lat']] # Mapping packages work with Long, Lat arrays  \n",
    "coords = coords.to_numpy().tolist() # Make the arrays into a list of lists\n",
    "\n",
    "# Folium requires Lat then Long arrays, so reverse the order\n",
    "m = folium.Map(location = list(reversed(coords[2])), zoom_start = 10)\n",
    "\n",
    "# folium.Marker(list(reversed(coords[0])), popup = locations.Store[0], icon = folium.Icon(color = 'black')).add_to(m)\n",
    "\n",
    "# Set location markers depending on its type (either The Warehouse/Noel Leeming/Distribution Centre)\n",
    "for i in range(0, len(coords)):\n",
    "    # The Warehouse stores will be shown in red \n",
    "    if locations.Type[i] == \"The Warehouse\":\n",
    "        iconCol = \"red\"\n",
    "    # Noel Leeming stores will be shown in orange\n",
    "    elif locations.Type[i] == \"Noel Leeming\":\n",
    "        iconCol = \"orange\"\n",
    "    # Distribution centres will be shown in black\n",
    "    elif locations.Type[i] == \"Distribution\":\n",
    "        iconCol = \"black\"\n",
    "    # Add markers to the map\n",
    "    folium.Marker(list(reversed(coords[i])), popup = locations.Store[i], icon = folium.Icon(color = iconCol)).add_to(m)\n",
    "# m"
   ]
  },
  {
   "cell_type": "code",
   "execution_count": 6,
   "metadata": {},
   "outputs": [
    {
     "data": {
      "image/png": "[encoded data removed]",
      "text/plain": [
       "<Figure size 432x288 with 4 Axes>"
      ]
     },
     "metadata": {
      "needs_background": "light"
     },
     "output_type": "display_data"
    },
    {
     "data": {
      "image/png": "[encoded data removed]",
      "text/plain": [
       "<Figure size 432x288 with 4 Axes>"
      ]
     },
     "metadata": {
      "needs_background": "light"
     },
     "output_type": "display_data"
    }
   ],
   "source": [
    "# Boot up client to OpenRouteService\n",
    "ORSkey = '5b3ce3597851110001cf624862488e5d98474379ab630ebc96a0ef29'\n",
    "# The client ORSkey\n",
    "client = ors.Client(key=ORSkey)\n",
    "\n",
    "# Get relevant demand, location and duration data\n",
    "demandData = load_DemandData()\n",
    "locations = load_WarehouseLocations()\n",
    "durations = load_WarehouseRoutes(False)\n",
    "\n",
    "# number of iterations\n",
    "n = 1000\n",
    "\n",
    "# Initialise nodes\n",
    "nodes = initialise_nodes(demandData,locations)\n",
    "\n",
    "south_routes, south_obj = find_routes(nodes,durations,n,True)\n",
    "\n",
    "# Transform set of routes when northern distribution centre is closed into list (call this a scenario 2)\n",
    "south_route_list = list(south_routes)\n",
    "\n",
    "# Initialise scenario 2 coordinates list\n",
    "south_coord = []\n",
    "\n",
    "# Set coordinates of scenario 2 routes to visualise routes on the map\n",
    "for i in range(len(south_route_list)):\n",
    "    for j in range(len(south_routes[south_route_list[i]].nodes)):\n",
    "        south_coord.append(south_routes[south_route_list[i]].nodes[j].location)    \n",
    "    route = client.directions(coordinates = south_coord, profile = 'driving-hgv', format = 'geojson', validate = False)\n",
    "    # Also insert random HTML hex color code generated so each route has different colors \n",
    "    folium.PolyLine(locations = [list(reversed(south_coord)) for south_coord in route['features'][0]['geometry']['coordinates']], \\\n",
    "                    color = rand_color(), weight = 3).add_to(m)\n",
    "    south_coord = []\n",
    "m.save(\"north_closed_routes.html\")"
   ]
  },
  {
   "cell_type": "code",
   "execution_count": null,
   "metadata": {},
   "outputs": [],
   "source": []
  }
 ],
 "metadata": {
  "kernelspec": {
   "display_name": "Python 3",
   "language": "python",
   "name": "python3"
  },
  "language_info": {
   "codemirror_mode": {
    "name": "ipython",
    "version": 3
   },
   "file_extension": ".py",
   "mimetype": "text/x-python",
   "name": "python",
   "nbconvert_exporter": "python",
   "pygments_lexer": "ipython3",
   "version": "3.7.4"
  }
 },
 "nbformat": 4,
 "nbformat_minor": 2
}
